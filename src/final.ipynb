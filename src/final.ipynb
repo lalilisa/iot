{
 "cells": [
  {
   "cell_type": "code",
   "execution_count": 1,
   "metadata": {},
   "outputs": [],
   "source": [
    "import matplotlib.pyplot as plt\n",
    "from sklearn.metrics import accuracy_score\n",
    "from sklearn.svm import SVC\n",
    "\n",
    "from data.sample_data_generator import *\n",
    "from multiclass_svm import MulticlassSVM\n",
    "from svm import SVM\n",
    "\n",
    "from sklearn.metrics import precision_score\n",
    "from sklearn.metrics import recall_score\n",
    "from sklearn.metrics import accuracy_score\n",
    "from sklearn.metrics import f1_score\n",
    "\n",
    "%matplotlib inline\n",
    "np.set_printoptions(precision=3)\n",
    "np.set_printoptions(suppress=True)\n",
    "\n",
    "RND = 42\n",
    "N_SAMP = 200\n",
    "N_FEAT = 2"
   ]
  },
  {
   "cell_type": "code",
   "execution_count": 2,
   "metadata": {},
   "outputs": [],
   "source": [
    "def fit_and_predict(\n",
    "    svm_: SVM | SVC | MulticlassSVM,\n",
    "    x_train_: np.ndarray,\n",
    "    x_test_: np.ndarray,\n",
    "    y_train_: np.ndarray,\n",
    "    y_test_: np.ndarray,\n",
    "    x_min: float | None = None,\n",
    "    x_max: float | None = None,\n",
    "    y_min: float | None = None,\n",
    "    y_max: float | None = None,\n",
    "    verbosity: int = 1,\n",
    "    is_binary_custom_svm: bool = True\n",
    "):\n",
    "    if is_binary_custom_svm:\n",
    "        svm_.fit(x_train_, y_train_, verbosity)\n",
    "    else:\n",
    "        svm_.fit(x_train_, y_train_)\n",
    "    y_pred = svm_.predict(x_test_)\n",
    "    precision=precision_score(y_test_,y_pred, average='macro')\n",
    "    recall=recall_score(y_test_,y_pred, average='macro')\n",
    "    accuracyScore = accuracy_score(y_test_,y_pred)\n",
    "    f1Score= f1_score(y_test_,y_pred, average='macro')\n",
    "\n",
    "    print('precision: ', precision)\n",
    "    print('recall', recall)\n",
    "    print('accuracy ',accuracyScore)\n",
    "    print('F1 score', f1Score)\n",
    "    if is_binary_custom_svm:\n",
    "        svm_.plot2d(x_train_, y_train_, x_min, x_max, y_min, y_max)"
   ]
  },
  {
   "cell_type": "code",
   "execution_count": null,
   "metadata": {},
   "outputs": [],
   "source": []
  },
  {
   "cell_type": "code",
   "execution_count": 4,
   "metadata": {},
   "outputs": [
    {
     "name": "stdout",
     "output_type": "stream",
     "text": [
      "Formatted Date              39627\n",
      "Summary                         0\n",
      "Precip Type                   364\n",
      "Temperature (C)                 0\n",
      "Apparent Temperature (C)        0\n",
      "Humidity                        0\n",
      "Wind Speed (km/h)               0\n",
      "Wind Bearing (degrees)          0\n",
      "Visibility (km)                 0\n",
      "Loud Cover                      0\n",
      "Pressure (millibars)            0\n",
      "dtype: int64\n",
      "rain    32636\n",
      "snow     6627\n",
      "Name: Precip Type, dtype: int64\n",
      "   Summary  Precip Type  Temperature (C)  Apparent Temperature (C)  Humidity  \\\n",
      "0        1            0        10.911111                 10.911111      0.86   \n",
      "1        1            0         8.800000                  5.294444      0.99   \n",
      "2        1            0         8.200000                  5.072222      0.96   \n",
      "3        1            0         8.177778                  4.372222      0.93   \n",
      "4        1            0         5.211111                  5.211111      0.92   \n",
      "\n",
      "   Wind Speed (km/h)  Wind Bearing (degrees)  Visibility (km)  \\\n",
      "0            22.3951                     311           2.6565   \n",
      "1            26.5006                     339           2.6565   \n",
      "2            20.4470                     341           3.1073   \n",
      "3            27.8691                      19           3.2039   \n",
      "4             4.7656                     178           1.2236   \n",
      "\n",
      "   Pressure (millibars)  \n",
      "0               1004.61  \n",
      "1               1004.99  \n",
      "2               1004.80  \n",
      "3               1004.89  \n",
      "4               1013.40  \n",
      "Number of classes: 4\n",
      "[0 1 2 3]\n"
     ]
    }
   ],
   "source": [
    "\n",
    "\n",
    "\n",
    "import numpy as np\n",
    "import matplotlib.pyplot as plt\n",
    "import pandas as pd\n",
    "import math\n",
    "import copy\n",
    "from sklearn import metrics\n",
    "from sklearn.model_selection import train_test_split\n",
    "from sklearn.linear_model import LinearRegression\n",
    "from sklearn.metrics import *\n",
    "from sklearn import neighbors, datasets\n",
    "from sklearn.svm import SVC\n",
    "from sklearn.ensemble import RandomForestClassifier\n",
    "from sklearn.datasets import make_classification\n",
    "from sklearn import linear_model\n",
    "from sklearn.ensemble import GradientBoostingClassifier\n",
    "from sklearn.multiclass import OneVsOneClassifier\n",
    "# Import label encoder\n",
    "from sklearn import preprocessing\n",
    "import pickle\n",
    "dataset = pd.read_csv(r'weatherHistory_Chon4nhan.csv')\n",
    "X = dataset.iloc[:, 1:].values\n",
    "# print(X[:3])\n",
    "row=len(X)\n",
    "col=len(X[0])\n",
    "attribute = ['Formatted Date', 'Summary', 'Precip Type', 'Temperature (C)', 'Apparent Temperature (C)', 'Humidity', 'Wind Speed (km/h)', 'Wind Bearing (degrees)', 'Visibility (km)', 'Loud Cover', 'Pressure (millibars)']\n",
    "df=pd.DataFrame(dataset, columns = attribute)\n",
    "\n",
    "label_encoder = preprocessing.LabelEncoder()\n",
    "  \n",
    "\n",
    "print(df.isnull().sum())\n",
    "print(df['Precip Type'].value_counts())\n",
    "\n",
    "df['Precip Type'].fillna(method='ffill',inplace=True,axis=0)\n",
    "df['Precip Type']= label_encoder.fit_transform(df['Precip Type'])\n",
    "\n",
    "\n",
    "df['Summary']= label_encoder.fit_transform(df['Summary'])\n",
    "  \n",
    "# df['Summary'].unique()\n",
    "\n",
    "df=df.drop(labels='Formatted Date', axis=1)\n",
    "df=df.drop(labels='Loud Cover', axis=1)\n",
    "\n",
    "\n",
    "\n",
    "print(df.head())\n",
    "print ('Number of classes: %d' %len(np.unique(df['Summary'])))\n",
    "print(np.unique(df['Summary']))\n",
    "\n",
    "# print ('Number of classes: %d' %len(np.unique(df['Daily Summary'])))\n",
    "# print(np.unique(df['Daily Summary']))\n",
    "\n",
    "corr=df.corr()\n",
    "\n",
    "# corList,a,dic=[],0,{}\n",
    "# for i in df.feature_names:\n",
    "#     dic[i]=abs(corr[\"Summary\"][a])\n",
    "#     corList.append(abs(corr[\"Summary\"][a]))\n",
    "#     a+=1\n",
    "\n",
    "\n",
    "x=df.drop(labels=\"Summary\",axis=1)\n",
    "y=df[\"Summary\"]\n",
    "Y=[]\n",
    "for lable in y:\n",
    "    Y.append(lable)\n",
    "x=pd.DataFrame.to_numpy(x)\n",
    "x = np.array(x).astype(float)\n",
    "y = np.array(Y).astype(float)\n",
    "train_x,test_x,train_y,test_y=train_test_split(x,y,test_size=0.4, train_size=0.6)\n"
   ]
  },
  {
   "cell_type": "code",
   "execution_count": 6,
   "metadata": {},
   "outputs": [
    {
     "name": "stdout",
     "output_type": "stream",
     "text": [
      "23170 support vectors found out of 23776 data points\n",
      "precision:  0.5341993495386238\n",
      "recall 0.5096010334462295\n",
      "accuracy  0.5034382688789351\n",
      "F1 score 0.5183992981349406\n"
     ]
    }
   ],
   "source": [
    "svm=MulticlassSVM(kernel=\"rbf\")\n",
    "fit_and_predict(\n",
    "    svm,\n",
    "    train_x,\n",
    "    test_x,\n",
    "    train_y,\n",
    "    test_y,\n",
    "    is_binary_custom_svm=False\n",
    ")"
   ]
  },
  {
   "cell_type": "code",
   "execution_count": 6,
   "metadata": {},
   "outputs": [
    {
     "name": "stdout",
     "output_type": "stream",
     "text": [
      "precision:  0.512864140832449\n",
      "recall 0.5187291975926618\n",
      "accuracy  0.49410131852879946\n",
      "F1 score 0.5024542726963357\n"
     ]
    }
   ],
   "source": [
    "#Sklearns\n",
    "from sklearn.svm import SVC\n",
    "clf = SVC(kernel='rbf',decision_function_shape='ovo')\n",
    "clf.fit(train_x, train_y)\n",
    "predicted_y=clf.predict(test_x)\n",
    "precision=precision_score(test_y,predicted_y, average='macro')\n",
    "recall=recall_score(test_y,predicted_y, average='macro')\n",
    "accuracyScore = accuracy_score(test_y,predicted_y)\n",
    "f1Score= f1_score(test_y,predicted_y, average='macro')\n",
    "\n",
    "print('precision: ', precision)\n",
    "print('recall', recall)\n",
    "print('accuracy ',accuracyScore)\n",
    "print('F1 score', f1Score)\n",
    "\n"
   ]
  },
  {
   "cell_type": "code",
   "execution_count": null,
   "metadata": {},
   "outputs": [],
   "source": []
  }
 ],
 "metadata": {
  "kernelspec": {
   "display_name": "Python 3 (ipykernel)",
   "language": "python",
   "name": "python3"
  },
  "language_info": {
   "codemirror_mode": {
    "name": "ipython",
    "version": 3
   },
   "file_extension": ".py",
   "mimetype": "text/x-python",
   "name": "python",
   "nbconvert_exporter": "python",
   "pygments_lexer": "ipython3",
   "version": "3.10.9"
  },
  "vscode": {
   "interpreter": {
    "hash": "26de051ba29f2982a8de78e945f0abaf191376122a1563185a90213a26c5da77"
   }
  }
 },
 "nbformat": 4,
 "nbformat_minor": 2
}
