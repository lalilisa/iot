{
 "cells": [
  {
   "cell_type": "code",
   "execution_count": 1,
   "metadata": {},
   "outputs": [],
   "source": [
    "import matplotlib.pyplot as plt\n",
    "from sklearn.metrics import accuracy_score\n",
    "from sklearn.svm import SVC\n",
    "\n",
    "from data.sample_data_generator import *\n",
    "from multiclass_svm import MulticlassSVM\n",
    "from svm import SVM\n",
    "\n",
    "from sklearn.metrics import precision_score\n",
    "from sklearn.metrics import recall_score\n",
    "from sklearn.metrics import accuracy_score\n",
    "from sklearn.metrics import f1_score\n",
    "\n",
    "%matplotlib inline\n",
    "np.set_printoptions(precision=3)\n",
    "np.set_printoptions(suppress=True)\n",
    "\n",
    "RND = 42\n",
    "N_SAMP = 200\n",
    "N_FEAT = 2"
   ]
  },
  {
   "cell_type": "code",
   "execution_count": 2,
   "metadata": {},
   "outputs": [],
   "source": [
    "def fit_and_predict(\n",
    "    svm_: SVM | SVC | MulticlassSVM,\n",
    "    x_train_: np.ndarray,\n",
    "    x_test_: np.ndarray,\n",
    "    y_train_: np.ndarray,\n",
    "    y_test_: np.ndarray,\n",
    "    x_min: float | None = None,\n",
    "    x_max: float | None = None,\n",
    "    y_min: float | None = None,\n",
    "    y_max: float | None = None,\n",
    "    verbosity: int = 1,\n",
    "    is_binary_custom_svm: bool = True\n",
    "):\n",
    "    if is_binary_custom_svm:\n",
    "        svm_.fit(x_train_, y_train_, verbosity)\n",
    "    else:\n",
    "        svm_.fit(x_train_, y_train_)\n",
    "    y_pred = svm_.predict(x_test_)\n",
    "    precision=precision_score(y_test_,y_pred, average='macro')\n",
    "    recall=recall_score(y_test_,y_pred, average='macro')\n",
    "    accuracyScore = accuracy_score(y_test_,y_pred)\n",
    "    f1Score= f1_score(y_test_,y_pred, average='macro')\n",
    "\n",
    "    print('precision: ', precision)\n",
    "    print('recall', recall)\n",
    "    print('accuracy ',accuracyScore)\n",
    "    print('F1 score', f1Score)\n",
    "    if is_binary_custom_svm:\n",
    "        svm_.plot2d(x_train_, y_train_, x_min, x_max, y_min, y_max)"
   ]
  },
  {
   "cell_type": "code",
   "execution_count": null,
   "metadata": {},
   "outputs": [],
   "source": []
  },
  {
   "cell_type": "code",
   "execution_count": 3,
   "metadata": {},
   "outputs": [
    {
     "name": "stdout",
     "output_type": "stream",
     "text": [
      "Formatted Date              39627\n",
      "Summary                         0\n",
      "Precip Type                   364\n",
      "Temperature (C)                 0\n",
      "Apparent Temperature (C)        0\n",
      "Humidity                        0\n",
      "Wind Speed (km/h)               0\n",
      "Wind Bearing (degrees)          0\n",
      "Visibility (km)                 0\n",
      "Loud Cover                      0\n",
      "Pressure (millibars)            0\n",
      "dtype: int64\n",
      "rain    32636\n",
      "snow     6627\n",
      "Name: Precip Type, dtype: int64\n",
      "   Summary  Precip Type  Temperature (C)  Apparent Temperature (C)  Humidity  \\\n",
      "0        0            0        10.911111                 10.911111      0.86   \n",
      "1        0            0         8.800000                  5.294444      0.99   \n",
      "2        0            0         8.200000                  5.072222      0.96   \n",
      "3        0            0         8.177778                  4.372222      0.93   \n",
      "4        0            0         5.211111                  5.211111      0.92   \n",
      "\n",
      "   Wind Speed (km/h)  Wind Bearing (degrees)  Visibility (km)  \\\n",
      "0            22.3951                     311           2.6565   \n",
      "1            26.5006                     339           2.6565   \n",
      "2            20.4470                     341           3.1073   \n",
      "3            27.8691                      19           3.2039   \n",
      "4             4.7656                     178           1.2236   \n",
      "\n",
      "   Pressure (millibars)  \n",
      "0               1004.61  \n",
      "1               1004.99  \n",
      "2               1004.80  \n",
      "3               1004.89  \n",
      "4               1013.40  \n",
      "Number of classes: 4\n",
      "[0 1 2 3]\n"
     ]
    }
   ],
   "source": [
    "\n",
    "\n",
    "\n",
    "import numpy as np\n",
    "import matplotlib.pyplot as plt\n",
    "import pandas as pd\n",
    "import math\n",
    "import copy\n",
    "from sklearn import metrics\n",
    "from sklearn.model_selection import train_test_split\n",
    "from sklearn.linear_model import LinearRegression\n",
    "from sklearn.metrics import *\n",
    "from sklearn import neighbors, datasets\n",
    "from sklearn.svm import SVC\n",
    "from sklearn.ensemble import RandomForestClassifier\n",
    "from sklearn.datasets import make_classification\n",
    "from sklearn import linear_model\n",
    "from sklearn.ensemble import GradientBoostingClassifier\n",
    "from sklearn.multiclass import OneVsOneClassifier\n",
    "# Import label encoder\n",
    "from sklearn import preprocessing\n",
    "import pickle\n",
    "dataset = pd.read_csv(r'weatherHistory.csv')\n",
    "X = dataset.iloc[:, 1:].values\n",
    "# print(X[:3])\n",
    "row=len(X)\n",
    "col=len(X[0])\n",
    "attribute = ['Formatted Date', 'Summary', 'Precip Type', 'Temperature (C)', 'Apparent Temperature (C)', 'Humidity', 'Wind Speed (km/h)', 'Wind Bearing (degrees)', 'Visibility (km)', 'Loud Cover', 'Pressure (millibars)']\n",
    "df=pd.DataFrame(dataset, columns = attribute)\n",
    "\n",
    "label_encoder = preprocessing.LabelEncoder()\n",
    "  \n",
    "\n",
    "print(df.isnull().sum())\n",
    "print(df['Precip Type'].value_counts())\n",
    "\n",
    "df['Precip Type'].fillna(method='ffill',inplace=True,axis=0)\n",
    "df['Precip Type']= label_encoder.fit_transform(df['Precip Type'])\n",
    "\n",
    "\n",
    "df['Summary']= label_encoder.fit_transform(df['Summary'])\n",
    "  \n",
    "# df['Summary'].unique()\n",
    "\n",
    "df=df.drop(labels='Formatted Date', axis=1)\n",
    "df=df.drop(labels='Loud Cover', axis=1)\n",
    "\n",
    "\n",
    "\n",
    "print(df.head())\n",
    "print ('Number of classes: %d' %len(np.unique(df['Summary'])))\n",
    "print(np.unique(df['Summary']))\n",
    "\n",
    "# print ('Number of classes: %d' %len(np.unique(df['Daily Summary'])))\n",
    "# print(np.unique(df['Daily Summary']))\n",
    "\n",
    "corr=df.corr()\n",
    "\n",
    "# corList,a,dic=[],0,{}\n",
    "# for i in df.feature_names:\n",
    "#     dic[i]=abs(corr[\"Summary\"][a])\n",
    "#     corList.append(abs(corr[\"Summary\"][a]))\n",
    "#     a+=1\n",
    "\n",
    "\n",
    "x=df.drop(labels=\"Summary\",axis=1)\n",
    "y=df[\"Summary\"]\n",
    "Y=[]\n",
    "for lable in y:\n",
    "    Y.append(lable)\n",
    "x=pd.DataFrame.to_numpy(x)\n",
    "x = np.array(x).astype(float)\n",
    "y = np.array(Y).astype(float)\n",
    "train_x,test_x,train_y,test_y=train_test_split(x,y,test_size=0.4, train_size=0.6)\n"
   ]
  },
  {
   "cell_type": "code",
   "execution_count": 4,
   "metadata": {},
   "outputs": [
    {
     "name": "stdout",
     "output_type": "stream",
     "text": [
      "23171 support vectors found out of 23776 data points\n",
      "Accuracy on the training set: 49.27\n"
     ]
    },
    {
     "ename": "KeyboardInterrupt",
     "evalue": "",
     "output_type": "error",
     "traceback": [
      "\u001b[1;31m---------------------------------------------------------------------------\u001b[0m",
      "\u001b[1;31mKeyboardInterrupt\u001b[0m                         Traceback (most recent call last)",
      "Cell \u001b[1;32mIn[4], line 2\u001b[0m\n\u001b[0;32m      1\u001b[0m svm\u001b[39m=\u001b[39mMulticlassSVM(kernel\u001b[39m=\u001b[39m\u001b[39m\"\u001b[39m\u001b[39mrbf\u001b[39m\u001b[39m\"\u001b[39m)\n\u001b[1;32m----> 2\u001b[0m fit_and_predict(\n\u001b[0;32m      3\u001b[0m     svm,\n\u001b[0;32m      4\u001b[0m     train_x,\n\u001b[0;32m      5\u001b[0m     test_x,\n\u001b[0;32m      6\u001b[0m     train_y,\n\u001b[0;32m      7\u001b[0m     test_y,\n\u001b[0;32m      8\u001b[0m     is_binary_custom_svm\u001b[39m=\u001b[39;49m\u001b[39mFalse\u001b[39;49;00m\n\u001b[0;32m      9\u001b[0m )\n",
      "Cell \u001b[1;32mIn[2], line 20\u001b[0m, in \u001b[0;36mfit_and_predict\u001b[1;34m(svm_, x_train_, x_test_, y_train_, y_test_, x_min, x_max, y_min, y_max, verbosity, is_binary_custom_svm)\u001b[0m\n\u001b[0;32m     18\u001b[0m y_pred \u001b[39m=\u001b[39m svm_\u001b[39m.\u001b[39mpredict(x_train_)\n\u001b[0;32m     19\u001b[0m \u001b[39mprint\u001b[39m(\u001b[39mf\u001b[39m\u001b[39m\"\u001b[39m\u001b[39mAccuracy on the training set: \u001b[39m\u001b[39m{\u001b[39;00maccuracy_score(y_train_, y_pred) \u001b[39m*\u001b[39m \u001b[39m100\u001b[39m\u001b[39m:\u001b[39;00m\u001b[39m.2f\u001b[39m\u001b[39m}\u001b[39;00m\u001b[39m\"\u001b[39m)\n\u001b[1;32m---> 20\u001b[0m y_pred \u001b[39m=\u001b[39m svm_\u001b[39m.\u001b[39;49mpredict(x_test_)\n\u001b[0;32m     21\u001b[0m \u001b[39mprint\u001b[39m(\u001b[39mf\u001b[39m\u001b[39m\"\u001b[39m\u001b[39mAccuracy on the test set: \u001b[39m\u001b[39m{\u001b[39;00maccuracy_score(y_test_, y_pred) \u001b[39m*\u001b[39m \u001b[39m100\u001b[39m\u001b[39m:\u001b[39;00m\u001b[39m.2f\u001b[39m\u001b[39m}\u001b[39;00m\u001b[39m\"\u001b[39m)\n\u001b[0;32m     22\u001b[0m \u001b[39mif\u001b[39;00m is_binary_custom_svm:\n",
      "File \u001b[1;32mc:\\Users\\maiva\\Downloads\\IOT\\custom-svm\\src\\multiclass_svm.py:134\u001b[0m, in \u001b[0;36mMulticlassSVM.predict\u001b[1;34m(self, x)\u001b[0m\n\u001b[0;32m    132\u001b[0m voting_schema \u001b[39m=\u001b[39m np\u001b[39m.\u001b[39mzeros([\u001b[39mlen\u001b[39m(x), \u001b[39m2\u001b[39m, \u001b[39mself\u001b[39m\u001b[39m.\u001b[39m_labels\u001b[39m.\u001b[39mshape[\u001b[39m0\u001b[39m]], dtype\u001b[39m=\u001b[39m\u001b[39mfloat\u001b[39m)\n\u001b[0;32m    133\u001b[0m \u001b[39mfor\u001b[39;00m svm_tuple \u001b[39min\u001b[39;00m \u001b[39mself\u001b[39m\u001b[39m.\u001b[39m_svm_list:\n\u001b[1;32m--> 134\u001b[0m     prediction \u001b[39m=\u001b[39m svm_tuple[\u001b[39m0\u001b[39;49m]\u001b[39m.\u001b[39;49mproject(x)\n\u001b[0;32m    135\u001b[0m     \u001b[39mfor\u001b[39;00m i \u001b[39min\u001b[39;00m \u001b[39mrange\u001b[39m(\u001b[39mlen\u001b[39m(prediction)):\n\u001b[0;32m    136\u001b[0m         \u001b[39mif\u001b[39;00m prediction[i] \u001b[39m<\u001b[39m \u001b[39m0\u001b[39m:\n",
      "File \u001b[1;32mc:\\Users\\maiva\\Downloads\\IOT\\custom-svm\\src\\svm.py:228\u001b[0m, in \u001b[0;36mSVM.project\u001b[1;34m(self, x, i, j)\u001b[0m\n\u001b[0;32m    225\u001b[0m         \u001b[39mif\u001b[39;00m i \u001b[39mor\u001b[39;00m j:\n\u001b[0;32m    226\u001b[0m             sv_x \u001b[39m=\u001b[39m np\u001b[39m.\u001b[39marray([sv_x[i], sv_x[j]])\n\u001b[1;32m--> 228\u001b[0m         y_predict[k] \u001b[39m+\u001b[39m\u001b[39m=\u001b[39m lda \u001b[39m*\u001b[39m sv_y \u001b[39m*\u001b[39m \u001b[39mself\u001b[39;49m\u001b[39m.\u001b[39;49m_kernel_fn(x[k], sv_x)\n\u001b[0;32m    229\u001b[0m \u001b[39mreturn\u001b[39;00m y_predict \u001b[39m+\u001b[39m \u001b[39mself\u001b[39m\u001b[39m.\u001b[39m_b\n",
      "File \u001b[1;32mc:\\Users\\maiva\\Downloads\\IOT\\custom-svm\\src\\svm.py:81\u001b[0m, in \u001b[0;36mSVM.__init__.<locals>.<lambda>\u001b[1;34m(x_i, x_j)\u001b[0m\n\u001b[0;32m     79\u001b[0m     \u001b[39mself\u001b[39m\u001b[39m.\u001b[39m_kernel_fn \u001b[39m=\u001b[39m \u001b[39mlambda\u001b[39;00m x_i, x_j: np\u001b[39m.\u001b[39mdot(x_i, x_j)\n\u001b[0;32m     80\u001b[0m \u001b[39melif\u001b[39;00m kernel \u001b[39m==\u001b[39m \u001b[39m\"\u001b[39m\u001b[39mrbf\u001b[39m\u001b[39m\"\u001b[39m:\n\u001b[1;32m---> 81\u001b[0m     \u001b[39mself\u001b[39m\u001b[39m.\u001b[39m_kernel_fn \u001b[39m=\u001b[39m \u001b[39mlambda\u001b[39;00m x_i, x_j: np\u001b[39m.\u001b[39mexp(\u001b[39m-\u001b[39m\u001b[39mself\u001b[39m\u001b[39m.\u001b[39m_gamma \u001b[39m*\u001b[39m np\u001b[39m.\u001b[39;49mdot(x_i \u001b[39m-\u001b[39;49m x_j, x_i \u001b[39m-\u001b[39;49m x_j))\n\u001b[0;32m     82\u001b[0m \u001b[39melif\u001b[39;00m kernel \u001b[39m==\u001b[39m \u001b[39m\"\u001b[39m\u001b[39mpoly\u001b[39m\u001b[39m\"\u001b[39m:\n\u001b[0;32m     83\u001b[0m     \u001b[39mself\u001b[39m\u001b[39m.\u001b[39m_kernel_fn \u001b[39m=\u001b[39m \u001b[39mlambda\u001b[39;00m x_i, x_j: (\u001b[39mself\u001b[39m\u001b[39m.\u001b[39m_gamma \u001b[39m*\u001b[39m np\u001b[39m.\u001b[39mdot(x_i, x_j) \u001b[39m+\u001b[39m r) \u001b[39m*\u001b[39m\u001b[39m*\u001b[39m deg\n",
      "File \u001b[1;32m<__array_function__ internals>:180\u001b[0m, in \u001b[0;36mdot\u001b[1;34m(*args, **kwargs)\u001b[0m\n",
      "\u001b[1;31mKeyboardInterrupt\u001b[0m: "
     ]
    }
   ],
   "source": [
    "svm=MulticlassSVM(kernel=\"rbf\")\n",
    "fit_and_predict(\n",
    "    svm,\n",
    "    train_x,\n",
    "    test_x,\n",
    "    train_y,\n",
    "    test_y,\n",
    "    is_binary_custom_svm=False\n",
    ")"
   ]
  },
  {
   "cell_type": "code",
   "execution_count": 4,
   "metadata": {},
   "outputs": [
    {
     "name": "stdout",
     "output_type": "stream",
     "text": [
      "precision:  0.689950467965811\n",
      "recall 0.6955319012416243\n",
      "accuracy  0.6672134250205034\n",
      "F1 score 0.6925119405998014\n"
     ]
    }
   ],
   "source": [
    "#Sklearns\n",
    "from sklearn.svm import SVC\n",
    "clf = SVC(kernel='rbf',decision_function_shape='ovo')\n",
    "clf.fit(train_x, train_y)\n",
    "predicted_y=clf.predict(test_x)\n",
    "precision=precision_score(test_y,predicted_y, average='macro')\n",
    "recall=recall_score(test_y,predicted_y, average='macro')\n",
    "accuracyScore = accuracy_score(test_y,predicted_y)\n",
    "f1Score= f1_score(test_y,predicted_y, average='macro')\n",
    "\n",
    "print('precision: ', precision)\n",
    "print('recall', recall)\n",
    "print('accuracy ',accuracyScore)\n",
    "print('F1 score', f1Score)\n",
    "\n"
   ]
  }
 ],
 "metadata": {
  "kernelspec": {
   "display_name": "Python 3",
   "language": "python",
   "name": "python3"
  },
  "language_info": {
   "codemirror_mode": {
    "name": "ipython",
    "version": 3
   },
   "file_extension": ".py",
   "mimetype": "text/x-python",
   "name": "python",
   "nbconvert_exporter": "python",
   "pygments_lexer": "ipython3",
   "version": "3.10.9"
  },
  "orig_nbformat": 4,
  "vscode": {
   "interpreter": {
    "hash": "26de051ba29f2982a8de78e945f0abaf191376122a1563185a90213a26c5da77"
   }
  }
 },
 "nbformat": 4,
 "nbformat_minor": 2
}
